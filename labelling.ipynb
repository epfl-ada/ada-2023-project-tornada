{
 "cells": [
  {
   "cell_type": "code",
   "execution_count": null,
   "metadata": {},
   "outputs": [],
   "source": [
    "import pandas as pd"
   ]
  },
  {
   "cell_type": "code",
   "execution_count": null,
   "metadata": {},
   "outputs": [],
   "source": [
    "\n",
    "%%time\n",
    "df_ba = pd.read_csv('/kaggle/input/ada-project/BA_groups.csv')\n",
    "df_rb = pd.read_csv('/kaggle/input/ada-project/RB_groups.csv')"
   ]
  },
  {
   "cell_type": "code",
   "execution_count": null,
   "metadata": {},
   "outputs": [],
   "source": [
    "%%time\n",
    "#These are the .csv files that Konstantinos wrote. If you're not using text reviews, don't use these.\n",
    "rev_rb = pd.read_csv('/kaggle/input/ada-project/RB_ratings.csv')\n",
    "rev_ba = pd.read_csv('/kaggle/input/ada-project/BA_ratings.csv')"
   ]
  },
  {
   "cell_type": "code",
   "execution_count": null,
   "metadata": {},
   "outputs": [],
   "source": [
    "rev_ba = rev_ba.dropna(subset=['text'])\n",
    "rev_rb = rev_rb.dropna(subset=['text']) #only if you're using text"
   ]
  },
  {
   "cell_type": "code",
   "execution_count": null,
   "metadata": {},
   "outputs": [],
   "source": [
    "%%time\n",
    "rev_ba['year'] = pd.to_datetime(rev_ba['date'], unit='s').dt.year\n",
    "rev_ba['year'] = rev_ba['year'].astype(np.int64)"
   ]
  },
  {
   "cell_type": "code",
   "execution_count": null,
   "metadata": {},
   "outputs": [],
   "source": [
    "%%time\n",
    "rev_rb['year'] = pd.to_datetime(rev_rb['date'], unit='s').dt.year\n",
    "rev_rb['year'] = rev_rb['year'].astype(np.int64)"
   ]
  },
  {
   "cell_type": "code",
   "execution_count": null,
   "metadata": {},
   "outputs": [],
   "source": [
    "%%time\n",
    "rev_ba = rev_ba[['year','brewery_name','text']] #modify or don't use if you're using ratings"
   ]
  },
  {
   "cell_type": "code",
   "execution_count": null,
   "metadata": {},
   "outputs": [],
   "source": [
    "%%time\n",
    "rev_rb = rev_rb[['year','brewery_name','text']] #modify or don't use if you're using ratings"
   ]
  },
  {
   "cell_type": "code",
   "execution_count": null,
   "metadata": {},
   "outputs": [],
   "source": [
    "%%time\n",
    "big_ba = df_ba[['brewery_name','year']].apply(tuple, axis=1)"
   ]
  },
  {
   "cell_type": "code",
   "execution_count": null,
   "metadata": {},
   "outputs": [],
   "source": [
    "%%time\n",
    "big_rb = df_rb[['brewery_name','year']].apply(tuple, axis=1)"
   ]
  },
  {
   "cell_type": "code",
   "execution_count": null,
   "metadata": {},
   "outputs": [],
   "source": [
    "%%time\n",
    "rev_ba['by_tuple']=rev_ba[['brewery_name','year']].apply(tuple,axis=1)"
   ]
  },
  {
   "cell_type": "code",
   "execution_count": null,
   "metadata": {},
   "outputs": [],
   "source": [
    "%%time\n",
    "rev_rb['by_tuple']=rev_rb[['brewery_name','year']].apply(tuple,axis=1)"
   ]
  },
  {
   "cell_type": "code",
   "execution_count": null,
   "metadata": {},
   "outputs": [],
   "source": [
    "%%time\n",
    "rev_ba['big']=rev_ba['by_tuple'].isin(big_ba).astype(int) #creates the label"
   ]
  },
  {
   "cell_type": "code",
   "execution_count": null,
   "metadata": {},
   "outputs": [],
   "source": [
    "%%time\n",
    "rev_rb['big']=rev_rb['by_tuple'].isin(big_rb).astype(int) #creates the label"
   ]
  },
  {
   "cell_type": "code",
   "execution_count": null,
   "metadata": {},
   "outputs": [],
   "source": [
    "rev_rb[rev_rb['brewery_name']=='Falcon Bryggerier (Carlsberg)'] #sanity check"
   ]
  }
 ],
 "metadata": {
  "language_info": {
   "name": "python"
  }
 },
 "nbformat": 4,
 "nbformat_minor": 2
}
