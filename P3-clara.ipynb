{
 "cells": [
  {
   "cell_type": "code",
   "execution_count": 1,
   "metadata": {},
   "outputs": [],
   "source": [
    "import pandas as pd\n",
    "import numpy as np\n",
    "import helpers\n",
    "import matplotlib.pyplot as plt\n",
    "import seaborn as sns\n",
    "import scipy.stats"
   ]
  },
  {
   "cell_type": "code",
   "execution_count": 2,
   "metadata": {},
   "outputs": [
    {
     "name": "stderr",
     "output_type": "stream",
     "text": [
      "/tmp/ipykernel_5963/2442568033.py:2: DtypeWarning: Columns (17) have mixed types. Specify dtype option on import or set low_memory=False.\n",
      "  BA_ratings_without_text_big = pd.read_csv('./data/BeerAdvocate/ratings-big.csv', nrows=8393032)\n"
     ]
    }
   ],
   "source": [
    "# Load BeerAdvocate reviews (with the 'main_group' name, NaN if there is no) \n",
    "BA_ratings_without_text_big = pd.read_csv('./data/BeerAdvocate/ratings-big.csv', nrows=8393032)"
   ]
  },
  {
   "cell_type": "code",
   "execution_count": 3,
   "metadata": {},
   "outputs": [
    {
     "name": "stderr",
     "output_type": "stream",
     "text": [
      "/tmp/ipykernel_5963/4029089998.py:2: DtypeWarning: Columns (16) have mixed types. Specify dtype option on import or set low_memory=False.\n",
      "  RB_ratings_without_text_big = pd.read_csv('./data/RateBeer/ratings-big.csv', nrows=7122074)\n"
     ]
    }
   ],
   "source": [
    "# Load RateBeer reviews (with the 'main_group' name, NaN if there is no) \n",
    "RB_ratings_without_text_big = pd.read_csv('./data/RateBeer/ratings-big.csv', nrows=7122074)"
   ]
  },
  {
   "cell_type": "code",
   "execution_count": 4,
   "metadata": {},
   "outputs": [
    {
     "data": {
      "text/html": [
       "<div>\n",
       "<style scoped>\n",
       "    .dataframe tbody tr th:only-of-type {\n",
       "        vertical-align: middle;\n",
       "    }\n",
       "\n",
       "    .dataframe tbody tr th {\n",
       "        vertical-align: top;\n",
       "    }\n",
       "\n",
       "    .dataframe thead th {\n",
       "        text-align: right;\n",
       "    }\n",
       "</style>\n",
       "<table border=\"1\" class=\"dataframe\">\n",
       "  <thead>\n",
       "    <tr style=\"text-align: right;\">\n",
       "      <th></th>\n",
       "      <th>beer_name</th>\n",
       "      <th>beer_id</th>\n",
       "      <th>brewery_name</th>\n",
       "      <th>brewery_id</th>\n",
       "      <th>style</th>\n",
       "      <th>abv</th>\n",
       "      <th>date</th>\n",
       "      <th>user_name</th>\n",
       "      <th>user_id</th>\n",
       "      <th>appearance</th>\n",
       "      <th>aroma</th>\n",
       "      <th>palate</th>\n",
       "      <th>taste</th>\n",
       "      <th>overall</th>\n",
       "      <th>rating</th>\n",
       "      <th>review</th>\n",
       "      <th>year</th>\n",
       "      <th>main_group</th>\n",
       "    </tr>\n",
       "  </thead>\n",
       "  <tbody>\n",
       "    <tr>\n",
       "      <th>0</th>\n",
       "      <td>Régab</td>\n",
       "      <td>142544</td>\n",
       "      <td>Societe des Brasseries du Gabon (SOBRAGA)</td>\n",
       "      <td>37262</td>\n",
       "      <td>Euro Pale Lager</td>\n",
       "      <td>4.5</td>\n",
       "      <td>1440064800</td>\n",
       "      <td>nmann08</td>\n",
       "      <td>nmann08.184925</td>\n",
       "      <td>3.25</td>\n",
       "      <td>2.75</td>\n",
       "      <td>3.25</td>\n",
       "      <td>2.75</td>\n",
       "      <td>3.0</td>\n",
       "      <td>2.88</td>\n",
       "      <td>True</td>\n",
       "      <td>2015</td>\n",
       "      <td>NaN</td>\n",
       "    </tr>\n",
       "    <tr>\n",
       "      <th>1</th>\n",
       "      <td>Barelegs Brew</td>\n",
       "      <td>19590</td>\n",
       "      <td>Strangford Lough Brewing Company Ltd</td>\n",
       "      <td>10093</td>\n",
       "      <td>English Pale Ale</td>\n",
       "      <td>4.5</td>\n",
       "      <td>1235127600</td>\n",
       "      <td>StJamesGate</td>\n",
       "      <td>stjamesgate.163714</td>\n",
       "      <td>3.00</td>\n",
       "      <td>3.50</td>\n",
       "      <td>3.50</td>\n",
       "      <td>4.00</td>\n",
       "      <td>3.5</td>\n",
       "      <td>3.67</td>\n",
       "      <td>True</td>\n",
       "      <td>2009</td>\n",
       "      <td>NaN</td>\n",
       "    </tr>\n",
       "    <tr>\n",
       "      <th>2</th>\n",
       "      <td>Barelegs Brew</td>\n",
       "      <td>19590</td>\n",
       "      <td>Strangford Lough Brewing Company Ltd</td>\n",
       "      <td>10093</td>\n",
       "      <td>English Pale Ale</td>\n",
       "      <td>4.5</td>\n",
       "      <td>1142247600</td>\n",
       "      <td>mdagnew</td>\n",
       "      <td>mdagnew.19527</td>\n",
       "      <td>4.00</td>\n",
       "      <td>3.50</td>\n",
       "      <td>3.50</td>\n",
       "      <td>4.00</td>\n",
       "      <td>3.5</td>\n",
       "      <td>3.73</td>\n",
       "      <td>True</td>\n",
       "      <td>2006</td>\n",
       "      <td>NaN</td>\n",
       "    </tr>\n",
       "  </tbody>\n",
       "</table>\n",
       "</div>"
      ],
      "text/plain": [
       "       beer_name  beer_id                               brewery_name  \\\n",
       "0          Régab   142544  Societe des Brasseries du Gabon (SOBRAGA)   \n",
       "1  Barelegs Brew    19590       Strangford Lough Brewing Company Ltd   \n",
       "2  Barelegs Brew    19590       Strangford Lough Brewing Company Ltd   \n",
       "\n",
       "   brewery_id             style  abv        date    user_name  \\\n",
       "0       37262   Euro Pale Lager  4.5  1440064800      nmann08   \n",
       "1       10093  English Pale Ale  4.5  1235127600  StJamesGate   \n",
       "2       10093  English Pale Ale  4.5  1142247600      mdagnew   \n",
       "\n",
       "              user_id  appearance  aroma  palate  taste  overall  rating  \\\n",
       "0      nmann08.184925        3.25   2.75    3.25   2.75      3.0    2.88   \n",
       "1  stjamesgate.163714        3.00   3.50    3.50   4.00      3.5    3.67   \n",
       "2       mdagnew.19527        4.00   3.50    3.50   4.00      3.5    3.73   \n",
       "\n",
       "   review  year main_group  \n",
       "0    True  2015        NaN  \n",
       "1    True  2009        NaN  \n",
       "2    True  2006        NaN  "
      ]
     },
     "execution_count": 4,
     "metadata": {},
     "output_type": "execute_result"
    }
   ],
   "source": [
    "BA_ratings_without_text_big.head(3)"
   ]
  },
  {
   "cell_type": "code",
   "execution_count": 6,
   "metadata": {},
   "outputs": [],
   "source": [
    "BA_ratings_without_text_big_copy = BA_ratings_without_text_big.copy()\n",
    "RB_ratings_without_text_big_copy = RB_ratings_without_text_big.copy()"
   ]
  },
  {
   "cell_type": "code",
   "execution_count": 7,
   "metadata": {},
   "outputs": [
    {
     "name": "stdout",
     "output_type": "stream",
     "text": [
      "BeerAdvocate - The proportion of reviews from coorporation beer is 5.47%\n",
      "RateBeer     - The proportion of reviews from coorporation beer is 5.63%\n"
     ]
    },
    {
     "ename": "",
     "evalue": "",
     "output_type": "error",
     "traceback": [
      "\u001b[1;31mThe Kernel crashed while executing code in the the current cell or a previous cell. Please review the code in the cell(s) to identify a possible cause of the failure. Click <a href='https://aka.ms/vscodeJupyterKernelCrash'>here</a> for more info. View Jupyter <a href='command:jupyter.viewOutput'>log</a> for further details."
     ]
    }
   ],
   "source": [
    "ba_main_proportion = 1 - BA_ratings_without_text_big_copy['main_group'].isna().mean()\n",
    "rb_main_proportion = 1 - RB_ratings_without_text_big_copy['main_group'].isna().mean()\n",
    "\n",
    "print(f\"BeerAdvocate - The proportion of reviews from coorporation beer is {ba_main_proportion:.2%}\")\n",
    "print(f\"RateBeer     - The proportion of reviews from coorporation beer is {rb_main_proportion:.2%}\")"
   ]
  },
  {
   "cell_type": "code",
   "execution_count": null,
   "metadata": {},
   "outputs": [],
   "source": [
    "ba_main_proportions = BA_ratings_without_text_big_copy.groupby()\n",
    "['main_group'].isna().mean()\n"
   ]
  },
  {
   "cell_type": "code",
   "execution_count": 7,
   "metadata": {},
   "outputs": [
    {
     "name": "stdout",
     "output_type": "stream",
     "text": [
      "Mean of 'apparance' grade: 3.9372064658493504\n",
      "Mean of   'aroma'   grade: 3.86960086379051\n",
      "Mean of  'palate'   grade: 3.8658587325132214\n",
      "Mean of   'taste'   grade: 3.903289427476715\n",
      "Mean of  'overall'  grade: 3.9005285475425473\n"
     ]
    }
   ],
   "source": [
    "print(\"RateBeer:\")\n",
    "print(f\"Mean of 'apparance' grade: {RB_ratings_without_text_big_copy['appearance'].mean()}\")\n",
    "print(f\"Mean of   'aroma'   grade: {RB_ratings_without_text_big_copy['aroma'].mean()}\")\n",
    "print(f\"Mean of  'palate'   grade: {RB_ratings_without_text_big_copy['palate'].mean()}\")\n",
    "print(f\"Mean of   'taste'   grade: {RB_ratings_without_text_big_copy['taste'].mean()}\")\n",
    "print(f\"Mean of  'overall'  grade: {RB_ratings_without_text_big_copy['overall'].mean()}\")\n",
    "print()\n",
    "print(\"BeerAdvocate:\")\n",
    "print(f\"Mean of 'apparance' grade: {BA_ratings_without_text_big_copy['appearance'].mean()}\")\n",
    "print(f\"Mean of   'aroma'   grade: {BA_ratings_without_text_big_copy['aroma'].mean()}\")\n",
    "print(f\"Mean of  'palate'   grade: {BA_ratings_without_text_big_copy['palate'].mean()}\")\n",
    "print(f\"Mean of   'taste'   grade: {BA_ratings_without_text_big_copy['taste'].mean()}\")\n",
    "print(f\"Mean of  'overall'  grade: {BA_ratings_without_text_big_copy['overall'].mean()}\")"
   ]
  },
  {
   "cell_type": "code",
   "execution_count": 8,
   "metadata": {},
   "outputs": [
    {
     "name": "stdout",
     "output_type": "stream",
     "text": [
      "The overall rating mean for all ratings is: 3.845\n"
     ]
    }
   ],
   "source": [
    "overall_mean_ratings_all_rb = RB_ratings_without_text_big_copy[RB_ratings_without_text_big_copy['beer_id']==19590]['rating'].mean()\n",
    "print(f\"The overall rating mean for all RateBeer ratings is: {overall_mean_ratings_all_rb}\")\n",
    "\n",
    "overall_mean_ratings_all_ba = BA_ratings_without_text_big_copy[BA_ratings_without_text_big_copy['beer_id']==19590]['rating'].mean()\n",
    "print(f\"The overall rating mean for all BeerAdvocate ratings is: {overall_mean_ratings_all_ba}\")"
   ]
  },
  {
   "cell_type": "code",
   "execution_count": 9,
   "metadata": {},
   "outputs": [
    {
     "name": "stdout",
     "output_type": "stream",
     "text": [
      "In BeerAdvocate, there is 8393032 ratings\n"
     ]
    }
   ],
   "source": [
    "RB_ratings_size = len(RB_ratings_without_text_big_copy)\n",
    "BA_ratings_size = len(BA_ratings_without_text_big_copy)\n",
    "print(f\"In RateBeer, there is {RB_ratings_size} ratings\")\n",
    "print(f\"In BeerAdvocate, there is {BA_ratings_size} ratings\")"
   ]
  },
  {
   "cell_type": "code",
   "execution_count": 14,
   "metadata": {},
   "outputs": [
    {
     "name": "stdout",
     "output_type": "stream",
     "text": [
      "Here is the how the beer's style influence ratings:\n"
     ]
    },
    {
     "data": {
      "image/png": "[encoded data removed]",
      "text/plain": [
       "<Figure size 640x480 with 1 Axes>"
      ]
     },
     "metadata": {},
     "output_type": "display_data"
    }
   ],
   "source": [
    "rating_by_style_ba = BA_ratings_without_text_big_copy.groupby('style')['rating'].agg(['mean', ('proportion', lambda x: len(x) / RB_ratings_size*100)]).sort_values(by=['proportion'], ascending=False)\n",
    "print(\"Here is the how the beer's style influence ratings:\")\n",
    "rating_by_style_ba.head(3)\n",
    "\n",
    "sns.scatterplot(data = rating_by_style_ba, x = \"mean\", y=\"proportion\", label=\"Mean overall rating\")\n",
    "plt.xlabel(\"Proportion of the style in all ratings\")\n",
    "plt.ylabel(\"Mean overall rating\")\n",
    "plt.title(\"How much a beer style is consumed VS how it is rated\")\n",
    "plt.show()"
   ]
  },
  {
   "cell_type": "code",
   "execution_count": 15,
   "metadata": {},
   "outputs": [
    {
     "data": {
      "image/png": "[encoded data removed]",
      "text/plain": [
       "<Figure size 640x480 with 1 Axes>"
      ]
     },
     "metadata": {},
     "output_type": "display_data"
    }
   ],
   "source": [
    "rating_by_abv = RB_ratings_without_text.groupby('abv')['rating'].agg(['mean', ('proportion', lambda x: len(x) / RB_ratings_size*100)]).sort_values(by=['abv'], ascending=False)\n",
    "rating_by_abv\n",
    "\n",
    "sns.scatterplot(data = rating_by_abv, x = rating_by_abv.index, y=\"mean\", label=\"Mean overall rating\")\n",
    "sns.scatterplot(data = rating_by_abv, x = rating_by_abv.index, y=\"proportion\", label=\"Proportion in dataset\")\n",
    "plt.xlabel(\"Alcohol by volume (abv)\")\n",
    "plt.ylabel(\"\")\n",
    "plt.title(\"Impact of abv on beer ratings\")\n",
    "plt.show()"
   ]
  },
  {
   "cell_type": "code",
   "execution_count": 53,
   "metadata": {},
   "outputs": [
    {
     "data": {
      "text/html": [
       "<div>\n",
       "<style scoped>\n",
       "    .dataframe tbody tr th:only-of-type {\n",
       "        vertical-align: middle;\n",
       "    }\n",
       "\n",
       "    .dataframe tbody tr th {\n",
       "        vertical-align: top;\n",
       "    }\n",
       "\n",
       "    .dataframe thead th {\n",
       "        text-align: right;\n",
       "    }\n",
       "</style>\n",
       "<table border=\"1\" class=\"dataframe\">\n",
       "  <thead>\n",
       "    <tr style=\"text-align: right;\">\n",
       "      <th></th>\n",
       "      <th>Unnamed: 0</th>\n",
       "      <th>year</th>\n",
       "      <th>brewery_name</th>\n",
       "      <th>group</th>\n",
       "      <th>main_group</th>\n",
       "    </tr>\n",
       "  </thead>\n",
       "  <tbody>\n",
       "    <tr>\n",
       "      <th>0</th>\n",
       "      <td>0</td>\n",
       "      <td>2004</td>\n",
       "      <td>Companhia Cervejaria Brahma</td>\n",
       "      <td>Inbev</td>\n",
       "      <td>InBev</td>\n",
       "    </tr>\n",
       "    <tr>\n",
       "      <th>1</th>\n",
       "      <td>1</td>\n",
       "      <td>2004</td>\n",
       "      <td>Apatinska Pivara A.D.</td>\n",
       "      <td>Inbev</td>\n",
       "      <td>InBev</td>\n",
       "    </tr>\n",
       "    <tr>\n",
       "      <th>2</th>\n",
       "      <td>2</td>\n",
       "      <td>2004</td>\n",
       "      <td>Arcense Stoombierbouwerij (Hertog Jan Brouwerij)</td>\n",
       "      <td>Inbev</td>\n",
       "      <td>InBev</td>\n",
       "    </tr>\n",
       "  </tbody>\n",
       "</table>\n",
       "</div>"
      ],
      "text/plain": [
       "   Unnamed: 0  year                                      brewery_name  group  \\\n",
       "0           0  2004                       Companhia Cervejaria Brahma  Inbev   \n",
       "1           1  2004                             Apatinska Pivara A.D.  Inbev   \n",
       "2           2  2004  Arcense Stoombierbouwerij (Hertog Jan Brouwerij)  Inbev   \n",
       "\n",
       "  main_group  \n",
       "0      InBev  \n",
       "1      InBev  \n",
       "2      InBev  "
      ]
     },
     "execution_count": 53,
     "metadata": {},
     "output_type": "execute_result"
    }
   ],
   "source": [
    "RB_coorporation = pd.read_csv('./data/BA_groups.csv', usecols=lambda col: col not in [\"ind\"], sep=',')\n",
    "\n",
    "RB_coorporation.head(3)"
   ]
  },
  {
   "cell_type": "code",
   "execution_count": 54,
   "metadata": {},
   "outputs": [
    {
     "data": {
      "text/html": [
       "<div>\n",
       "<style scoped>\n",
       "    .dataframe tbody tr th:only-of-type {\n",
       "        vertical-align: middle;\n",
       "    }\n",
       "\n",
       "    .dataframe tbody tr th {\n",
       "        vertical-align: top;\n",
       "    }\n",
       "\n",
       "    .dataframe thead th {\n",
       "        text-align: right;\n",
       "    }\n",
       "</style>\n",
       "<table border=\"1\" class=\"dataframe\">\n",
       "  <thead>\n",
       "    <tr style=\"text-align: right;\">\n",
       "      <th></th>\n",
       "      <th>Unnamed: 0</th>\n",
       "      <th>year</th>\n",
       "      <th>brewery_name</th>\n",
       "      <th>group</th>\n",
       "      <th>main_group</th>\n",
       "    </tr>\n",
       "  </thead>\n",
       "  <tbody>\n",
       "    <tr>\n",
       "      <th>1447</th>\n",
       "      <td>257</td>\n",
       "      <td>2003</td>\n",
       "      <td>Karlova&amp;#267;ka Pivovara</td>\n",
       "      <td>Heineken</td>\n",
       "      <td>Heineken</td>\n",
       "    </tr>\n",
       "    <tr>\n",
       "      <th>1490</th>\n",
       "      <td>330</td>\n",
       "      <td>2004</td>\n",
       "      <td>Karlova&amp;#267;ka Pivovara</td>\n",
       "      <td>Heineken</td>\n",
       "      <td>Heineken</td>\n",
       "    </tr>\n",
       "    <tr>\n",
       "      <th>1536</th>\n",
       "      <td>403</td>\n",
       "      <td>2005</td>\n",
       "      <td>Karlova&amp;#267;ka Pivovara</td>\n",
       "      <td>Heineken</td>\n",
       "      <td>Heineken</td>\n",
       "    </tr>\n",
       "    <tr>\n",
       "      <th>1588</th>\n",
       "      <td>476</td>\n",
       "      <td>2006</td>\n",
       "      <td>Karlova&amp;#267;ka Pivovara</td>\n",
       "      <td>Heineken</td>\n",
       "      <td>Heineken</td>\n",
       "    </tr>\n",
       "    <tr>\n",
       "      <th>1640</th>\n",
       "      <td>549</td>\n",
       "      <td>2007</td>\n",
       "      <td>Karlova&amp;#267;ka Pivovara</td>\n",
       "      <td>Heineken</td>\n",
       "      <td>Heineken</td>\n",
       "    </tr>\n",
       "    <tr>\n",
       "      <th>1693</th>\n",
       "      <td>622</td>\n",
       "      <td>2008</td>\n",
       "      <td>Karlova&amp;#267;ka Pivovara</td>\n",
       "      <td>Heineken</td>\n",
       "      <td>Heineken</td>\n",
       "    </tr>\n",
       "    <tr>\n",
       "      <th>1758</th>\n",
       "      <td>695</td>\n",
       "      <td>2009</td>\n",
       "      <td>Karlova&amp;#267;ka Pivovara</td>\n",
       "      <td>Heineken</td>\n",
       "      <td>Heineken</td>\n",
       "    </tr>\n",
       "    <tr>\n",
       "      <th>1823</th>\n",
       "      <td>768</td>\n",
       "      <td>2010</td>\n",
       "      <td>Karlova&amp;#267;ka Pivovara</td>\n",
       "      <td>Heineken</td>\n",
       "      <td>Heineken</td>\n",
       "    </tr>\n",
       "    <tr>\n",
       "      <th>1890</th>\n",
       "      <td>841</td>\n",
       "      <td>2011</td>\n",
       "      <td>Karlova&amp;#267;ka Pivovara</td>\n",
       "      <td>Heineken</td>\n",
       "      <td>Heineken</td>\n",
       "    </tr>\n",
       "    <tr>\n",
       "      <th>1960</th>\n",
       "      <td>914</td>\n",
       "      <td>2012</td>\n",
       "      <td>Karlova&amp;#267;ka Pivovara</td>\n",
       "      <td>Heineken</td>\n",
       "      <td>Heineken</td>\n",
       "    </tr>\n",
       "    <tr>\n",
       "      <th>2032</th>\n",
       "      <td>987</td>\n",
       "      <td>2013</td>\n",
       "      <td>Karlova&amp;#267;ka Pivovara</td>\n",
       "      <td>Heineken</td>\n",
       "      <td>Heineken</td>\n",
       "    </tr>\n",
       "    <tr>\n",
       "      <th>2103</th>\n",
       "      <td>1060</td>\n",
       "      <td>2014</td>\n",
       "      <td>Karlova&amp;#267;ka Pivovara</td>\n",
       "      <td>Heineken</td>\n",
       "      <td>Heineken</td>\n",
       "    </tr>\n",
       "    <tr>\n",
       "      <th>2174</th>\n",
       "      <td>1133</td>\n",
       "      <td>2015</td>\n",
       "      <td>Karlova&amp;#267;ka Pivovara</td>\n",
       "      <td>Heineken</td>\n",
       "      <td>Heineken</td>\n",
       "    </tr>\n",
       "    <tr>\n",
       "      <th>2246</th>\n",
       "      <td>1206</td>\n",
       "      <td>2016</td>\n",
       "      <td>Karlova&amp;#267;ka Pivovara</td>\n",
       "      <td>Heineken</td>\n",
       "      <td>Heineken</td>\n",
       "    </tr>\n",
       "  </tbody>\n",
       "</table>\n",
       "</div>"
      ],
      "text/plain": [
       "      Unnamed: 0  year              brewery_name     group main_group\n",
       "1447         257  2003  Karlova&#267;ka Pivovara  Heineken   Heineken\n",
       "1490         330  2004  Karlova&#267;ka Pivovara  Heineken   Heineken\n",
       "1536         403  2005  Karlova&#267;ka Pivovara  Heineken   Heineken\n",
       "1588         476  2006  Karlova&#267;ka Pivovara  Heineken   Heineken\n",
       "1640         549  2007  Karlova&#267;ka Pivovara  Heineken   Heineken\n",
       "1693         622  2008  Karlova&#267;ka Pivovara  Heineken   Heineken\n",
       "1758         695  2009  Karlova&#267;ka Pivovara  Heineken   Heineken\n",
       "1823         768  2010  Karlova&#267;ka Pivovara  Heineken   Heineken\n",
       "1890         841  2011  Karlova&#267;ka Pivovara  Heineken   Heineken\n",
       "1960         914  2012  Karlova&#267;ka Pivovara  Heineken   Heineken\n",
       "2032         987  2013  Karlova&#267;ka Pivovara  Heineken   Heineken\n",
       "2103        1060  2014  Karlova&#267;ka Pivovara  Heineken   Heineken\n",
       "2174        1133  2015  Karlova&#267;ka Pivovara  Heineken   Heineken\n",
       "2246        1206  2016  Karlova&#267;ka Pivovara  Heineken   Heineken"
      ]
     },
     "execution_count": 54,
     "metadata": {},
     "output_type": "execute_result"
    }
   ],
   "source": []
  }
 ],
 "metadata": {
  "kernelspec": {
   "display_name": "Python 3",
   "language": "python",
   "name": "python3"
  },
  "language_info": {
   "codemirror_mode": {
    "name": "ipython",
    "version": 3
   },
   "file_extension": ".py",
   "mimetype": "text/x-python",
   "name": "python",
   "nbconvert_exporter": "python",
   "pygments_lexer": "ipython3",
   "version": "3.9.18"
  }
 },
 "nbformat": 4,
 "nbformat_minor": 2
}
